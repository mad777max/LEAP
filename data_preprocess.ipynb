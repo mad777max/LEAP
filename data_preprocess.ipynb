{
 "cells": [
  {
   "cell_type": "code",
   "execution_count": null,
   "id": "8f681fa5-dc6a-44ba-8eb1-01063f17f495",
   "metadata": {},
   "outputs": [],
   "source": [
    "import pandas as pd\n",
    "import numpy as np\n",
    "import os"
   ]
  },
  {
   "cell_type": "code",
   "execution_count": null,
   "id": "3206fe44-64f8-4e17-bedf-fdc8ac89d7c4",
   "metadata": {},
   "outputs": [],
   "source": [
    "item_list31 = [\n",
    "        \"工业品\",\"医药\",\"酒类\",\"家庭清洁/纸品\",\"手机通讯\",\"家装建材\",\"宠物生活\",\"服饰内衣\",\"图书\",\"母婴\",\"数码\",\n",
    "        \"生鲜\",\"食品饮料\",\"家具\",\"运动户外\",\"鞋靴\",\"电脑、办公\",\"家用电器\",\"二手商品\",\"汽车用品\",\"礼品\",\"美妆护肤\",\n",
    "        \"家纺\",\"农资园艺\",\"厨具\",\"珠宝首饰\",\"玩具乐器\",\"家居日用\",\"医疗保健\",\"箱包皮具\",\"个人护理\"]\n",
    "# 去掉（二手商品，礼品，工业品，医药，食品饮料），合并（家庭清洁-纸品，家居日用）"
   ]
  },
  {
   "cell_type": "code",
   "execution_count": null,
   "id": "24d1705b-d152-4330-a3f4-b1e1865a1270",
   "metadata": {},
   "outputs": [],
   "source": [
    "df_covidtime_cityclass = pd.read_csv('./data/covidtime_g14_nooverlap.csv')\n",
    "df_covidtime_cityclass['start_dt'] = pd.to_datetime(df_covidtime_cityclass['start_dt'])\n",
    "df_covidtime_cityclass['end_dt'] = pd.to_datetime(df_covidtime_cityclass['end_dt'])\n",
    "df_covidtime_cityclass.tail(5)"
   ]
  },
  {
   "cell_type": "code",
   "execution_count": null,
   "id": "c8343882-9fe3-467d-9ccf-b48a008d93f4",
   "metadata": {
    "scrolled": true
   },
   "outputs": [],
   "source": [
    "df_cityfeatures = pd.read_csv('./data/city_time_gdp_grouped_data_3.csv')\n",
    "df_cityfeatures = df_cityfeatures.rename(columns={'day': 'sale_ord_dt'})\n",
    "df_cityfeatures = df_cityfeatures.dropna().sort_values(['city_ch_name', 'sale_ord_dt']).reset_index(drop=True)\n",
    "df_cityfeatures"
   ]
  },
  {
   "cell_type": "code",
   "execution_count": null,
   "id": "15edd284-2497-4891-8558-ce43eb64ffe5",
   "metadata": {},
   "outputs": [],
   "source": [
    "for year in [2020, 2021, 2022]:\n",
    "    df = pd.read_csv(f'./data/data_{year}_city_cityclass_1.csv')\n",
    "    df = df.groupby(['city_ch_name', 'item_first_cate_name', 'sale_ord_dt'], as_index=False).agg({\n",
    "        'nums': 'sum',\n",
    "        'province_code': 'first',\n",
    "        'city_class': 'first',\n",
    "    })\n",
    "    df = pd.merge(df, df_cityfeatures, on=['city_ch_name', 'sale_ord_dt'], how='left').dropna()\n",
    "    df.to_csv(f'./data/data_{year}_allcate_allday.csv', index=False, encoding='utf-8-sig')"
   ]
  },
  {
   "cell_type": "code",
   "execution_count": null,
   "id": "a5acc492-d76b-4c39-a5ed-3553245354c0",
   "metadata": {},
   "outputs": [],
   "source": [
    "df = pd.read_csv(f'./data/data_2023_city_cityclass_1.csv')\n",
    "df = df.groupby(['city_ch_name', 'item_first_cate_name', 'sale_ord_dt'], as_index=False).agg({\n",
    "    'nums': 'sum',\n",
    "    'province_code': 'first',\n",
    "    'city_class': 'first',\n",
    "})\n",
    "df.to_csv(f'./data/data_2023_allcate_allday.csv', index=False, encoding='utf-8-sig')"
   ]
  },
  {
   "cell_type": "code",
   "execution_count": null,
   "id": "f3184bea-89cd-4fed-ac1a-9c26b530dc02",
   "metadata": {},
   "outputs": [],
   "source": [
    "df1 = pd.read_csv('./data/data_2020_allcate_allday.csv')\n",
    "df2 = pd.read_csv('./data/data_2021_allcate_allday.csv')\n",
    "df3 = pd.read_csv('./data/data_2022_allcate_allday.csv')\n",
    "df = pd.concat([df1, df2, df3], ignore_index=True)\n",
    "df['sale_ord_dt'] = pd.to_datetime(df['sale_ord_dt'])\n",
    "df.to_csv('./data/data_2020-2022_allcate_allday.csv', index=False, encoding='utf-8-sig')\n",
    "df"
   ]
  },
  {
   "cell_type": "markdown",
   "id": "9397d2b8-dd71-42d5-9c72-d69827ac54c1",
   "metadata": {},
   "source": [
    "## 取封控开始的前后14天作数据集"
   ]
  },
  {
   "cell_type": "code",
   "execution_count": null,
   "id": "d4e826a2-dd2c-455a-a128-d8bd5e0d62d2",
   "metadata": {},
   "outputs": [],
   "source": [
    "item_list31 = [\n",
    "        \"工业品\",\"医药\",\"酒类\",\"家庭清洁/纸品\",\"手机通讯\",\"家装建材\",\"宠物生活\",\"服饰内衣\",\"图书\",\"母婴\",\"数码\",\n",
    "        \"生鲜\",\"食品饮料\",\"家具\",\"运动户外\",\"鞋靴\",\"电脑、办公\",\"家用电器\",\"二手商品\",\"汽车用品\",\"礼品\",\"美妆护肤\",\n",
    "        \"家纺\",\"农资园艺\",\"厨具\",\"珠宝首饰\",\"玩具乐器\",\"家居日用\",\"医疗保健\",\"箱包皮具\",\"个人护理\"]\n",
    "# 去掉（二手商品，礼品，工业品，医药，食品饮料），合并（家庭清洁-纸品，家居日用）"
   ]
  },
  {
   "cell_type": "code",
   "execution_count": null,
   "id": "30cb77ee-bcc0-4896-863f-0b90f8eef913",
   "metadata": {
    "scrolled": true
   },
   "outputs": [],
   "source": [
    "df = pd.read_csv('./data/data_2020-2022_allcate_allday.csv', parse_dates=['sale_ord_dt'])\n",
    "df"
   ]
  },
  {
   "cell_type": "code",
   "execution_count": null,
   "id": "915a9998-0ed5-4361-b3b3-ceabcf798c0a",
   "metadata": {
    "scrolled": true
   },
   "outputs": [],
   "source": [
    "# 都有的城市\n",
    "#df = pd.read_csv(f'./data/data_2020-2022_allcate_allday.csv')\n",
    "a1 = df_covidtime_cityclass['city_ch_name'].unique()\n",
    "a2 = df['city_ch_name'].unique()\n",
    "print(np.setdiff1d(a1, a2), np.setdiff1d(a2, a1))\n",
    "len(a1), a1, \"-\"*100, len(a2), a2"
   ]
  },
  {
   "cell_type": "code",
   "execution_count": null,
   "id": "9d1aea24-15ba-4c06-a843-fa1e48ff7792",
   "metadata": {},
   "outputs": [],
   "source": [
    "intersection_city = np.intersect1d(a1, a2)\n",
    "len(intersection_city)"
   ]
  },
  {
   "cell_type": "code",
   "execution_count": null,
   "id": "0b407f46-7aec-436d-92a1-e1a390dc1e40",
   "metadata": {
    "scrolled": true
   },
   "outputs": [],
   "source": [
    "# 2020-2022\n",
    "results = []\n",
    "df_miss = pd.DataFrame(columns=['city', 'item', 'nannum', 'daynum'])\n",
    "for index, row in df_covidtime_cityclass.iterrows():\n",
    "    city = row['city_ch_name']\n",
    "    s_date = row['start_dt']\n",
    "    if city in intersection_city:\n",
    "        for item in item_list31:\n",
    "            # 计算日期范围\n",
    "            start_date = s_date - pd.Timedelta(days=14)\n",
    "            end_date = s_date + pd.Timedelta(days=13)\n",
    "            \n",
    "            # 筛选符合条件的行\n",
    "            filtered = df[(df['city_ch_name'] == city) & (df['item_first_cate_name'] == item) & (df['sale_ord_dt'] >= start_date) & (df['sale_ord_dt'] <= end_date)]\n",
    "            \n",
    "            # 生成日期范围\n",
    "            date_range = pd.date_range(start=start_date, end=end_date)\n",
    "            \n",
    "            # 重新索引以填充缺失日期为 NaN\n",
    "            filtered = filtered.set_index('sale_ord_dt').reindex(date_range).reset_index()\n",
    "            filtered['city_ch_name'] = city\n",
    "            filtered['nums'] = filtered['nums']#.fillna(np.nan)\n",
    "            \n",
    "            # 重命名列\n",
    "            filtered.rename(columns={'index': 'sale_ord_dt'}, inplace=True)\n",
    "            df_miss.loc[len(df_miss)] = [city, item, filtered.isna().any(axis=1).sum(), len(filtered)]\n",
    "            if filtered.isna().any(axis=1).sum() / len(filtered) > 0.1:\n",
    "                print(city, item, filtered.isna().any(axis=1).sum(), len(filtered))\n",
    "            # 添加到结果列表\n",
    "            results.append(filtered)\n",
    "\n",
    "df_miss.to_csv('./data/data_2020-2022_28days_31items_nannum.csv', index=False, encoding='utf-8-sig')\n",
    "# 合并所有结果\n",
    "final_result = pd.concat(results, ignore_index=True)\n",
    "final_result.to_csv('./data/data_2020-2022_28days_31items.csv', index=False, encoding='utf-8-sig')\n",
    "final_result"
   ]
  },
  {
   "cell_type": "code",
   "execution_count": null,
   "id": "e7841629-a275-4495-b8d5-ee527ebfd2fa",
   "metadata": {
    "scrolled": true
   },
   "outputs": [],
   "source": [
    "# 2023取对应日期的数据\n",
    "df_covidtime_cityclass['start_dt'] = pd.to_datetime(df_covidtime_cityclass['start_dt'])\n",
    "df_covidtime_cityclass['end_dt'] = pd.to_datetime(df_covidtime_cityclass['end_dt'])\n",
    "\n",
    "df_time2023 = df_covidtime_cityclass.copy()\n",
    "# 检查年份是否相同\n",
    "same_year = df_time2023['start_dt'].dt.year == df_time2023['end_dt'].dt.year\n",
    "\n",
    "# 修改年份为2023\n",
    "df_time2023.loc[same_year, 'start_dt'] = df_time2023.loc[same_year, 'start_dt'].apply(lambda x: x.replace(year=2023))\n",
    "df_time2023.loc[same_year, 'end_dt'] = df_time2023.loc[same_year, 'end_dt'].apply(lambda x: x.replace(year=2023))\n",
    "\n",
    "# 130           大连 2020-12-15 2021-01-24       二线城市      40\n",
    "# 260           沈阳 2020-12-23 2021-01-20      新一线城市      28\n",
    "# 385           西安 2021-12-09 2022-01-05      新一线城市      27\n",
    "# 年份不同的行\n",
    "df_time2023.loc[~same_year, 'start_dt'] = df_time2023.loc[~same_year, 'start_dt'].apply(lambda x: x.replace(year=2022))\n",
    "df_time2023.loc[~same_year, 'end_dt'] = df_time2023.loc[~same_year, 'end_dt'].apply(lambda x: x.replace(year=2023))\n",
    "df_time2023['period'] = (df_time2023['end_dt'] - df_time2023['start_dt']).dt.days\n",
    "df_time2023.to_csv('./data/time_2023.csv', index=False, encoding='utf-8-sig')\n",
    "df_time2023"
   ]
  },
  {
   "cell_type": "code",
   "execution_count": null,
   "id": "2729ec76-7b73-4163-aee1-861f67939e45",
   "metadata": {},
   "outputs": [],
   "source": [
    "df = pd.read_csv('./data/data_2023_allcate_allday.csv', parse_dates=['sale_ord_dt'])\n",
    "df.tail(5)"
   ]
  },
  {
   "cell_type": "code",
   "execution_count": null,
   "id": "8b87a6d5-f44a-4599-b629-6fb61cc34af2",
   "metadata": {
    "scrolled": true
   },
   "outputs": [],
   "source": [
    "results = []\n",
    "df_miss = pd.DataFrame(columns=['city', 'item', 'nannum', 'daynum'])\n",
    "for index, row in df_time2023.iterrows():\n",
    "    city = row['city_ch_name']\n",
    "    s_date = row['start_dt']\n",
    "    if city in intersection_city:\n",
    "        for item in item_list31:\n",
    "            # 计算日期范围\n",
    "            start_date = s_date - pd.Timedelta(days=14)\n",
    "            end_date = s_date + pd.Timedelta(days=13)\n",
    "            \n",
    "            # 筛选符合条件的行\n",
    "            filtered = df[(df['city_ch_name'] == city) & (df['item_first_cate_name'] == item) & (df['sale_ord_dt'] >= start_date) & (df['sale_ord_dt'] <= end_date)]\n",
    "            \n",
    "            # 生成日期范围\n",
    "            date_range = pd.date_range(start=start_date, end=end_date)\n",
    "            \n",
    "            # 重新索引以填充缺失日期为 NaN\n",
    "            filtered = filtered.set_index('sale_ord_dt').reindex(date_range).reset_index()\n",
    "            filtered['city_ch_name'] = city\n",
    "            filtered['nums'] = filtered['nums']#.fillna(np.nan)\n",
    "            \n",
    "            # 重命名列\n",
    "            filtered.rename(columns={'index': 'sale_ord_dt'}, inplace=True)\n",
    "            df_miss.loc[len(df_miss)] = [city, item, filtered.isna().any(axis=1).sum(), len(filtered)]\n",
    "            if filtered.isna().any(axis=1).sum() / len(filtered) > 0.1:\n",
    "                print(city, item, filtered.isna().any(axis=1).sum(), len(filtered))\n",
    "            # 添加到结果列表\n",
    "            results.append(filtered)\n",
    "\n",
    "df_miss.to_csv('./data/data_2023_28days_31items_nannum.csv', index=False, encoding='utf-8-sig')\n",
    "# 合并所有结果\n",
    "final_result2 = pd.concat(results, ignore_index=True)\n",
    "final_result2.to_csv('./data/data_2023_28days_31items.csv', index=False, encoding='utf-8-sig')\n",
    "final_result2"
   ]
  },
  {
   "cell_type": "markdown",
   "id": "4126b324-0ec9-4a4f-a323-57af94240d82",
   "metadata": {},
   "source": [
    "### NAN数量多于3的去掉"
   ]
  },
  {
   "cell_type": "code",
   "execution_count": null,
   "id": "b265304a-922d-484f-a0e9-2b43575e515a",
   "metadata": {},
   "outputs": [],
   "source": [
    "df_miss1 = pd.read_csv('./data/data_2020-2022_28days_31items_nannum.csv')\n",
    "df_miss2 = pd.read_csv('./data/data_2023_28days_31items_nannum.csv')"
   ]
  },
  {
   "cell_type": "code",
   "execution_count": null,
   "id": "9f68ae6a-4af1-499b-bae4-1782d5a3cc78",
   "metadata": {},
   "outputs": [],
   "source": [
    "df_20202022_28days_31items = pd.read_csv('./data/data_2020-2022_28days_31items.csv')\n",
    "df_2023_28days_31items = pd.read_csv('./data/data_2023_28days_31items.csv')"
   ]
  },
  {
   "cell_type": "markdown",
   "id": "2cd6d00c-b607-4d3a-bd08-d2bbe3e5f354",
   "metadata": {
    "jp-MarkdownHeadingCollapsed": true
   },
   "source": [
    "###### item列填上"
   ]
  },
  {
   "cell_type": "code",
   "execution_count": null,
   "id": "ce275353-1916-410e-baea-54ccc5fc2ad9",
   "metadata": {},
   "outputs": [],
   "source": [
    "# 获取 DataFrame 的总行数\n",
    "num_rows = len(df_20202022_28days_31items)\n",
    "\n",
    "# 记录冲突的索引\n",
    "conflicting_indices = []\n",
    "\n",
    "# 遍历每组 28 行\n",
    "for i, start_index in enumerate(range(0, num_rows, 28)):\n",
    "    end_index = min(start_index + 28, num_rows)\n",
    "    \n",
    "    # 获取当前组\n",
    "    group = df_20202022_28days_31items.iloc[start_index:end_index]\n",
    "    \n",
    "    # 计算当前组要填充的值\n",
    "    fill_value = item_list31[i % len(item_list31)]\n",
    "    \n",
    "    # 检查冲突并填充\n",
    "    for index, row in group.iterrows():\n",
    "        original_value = row['item_first_cate_name']\n",
    "        if pd.notna(original_value) and original_value != fill_value:\n",
    "            conflicting_indices.append(index)\n",
    "        else:\n",
    "            df_20202022_28days_31items.at[index, 'item_first_cate_name'] = fill_value\n",
    "\n",
    "# 打印冲突的行索引\n",
    "if conflicting_indices:\n",
    "    print(\"冲突的行索引:\", conflicting_indices)\n",
    "else:\n",
    "    print(\"没有发现冲突\")\n",
    "    df_20202022_28days_31items.to_csv('./data/data_2020-2022_28days_31items.csv', index=False, encoding='utf-8-sig')"
   ]
  },
  {
   "cell_type": "code",
   "execution_count": null,
   "id": "251eefa2-368e-44e0-9413-d3770b93c27c",
   "metadata": {},
   "outputs": [],
   "source": [
    "# 获取 DataFrame 的总行数\n",
    "num_rows = len(df_2023_28days_31items)\n",
    "\n",
    "# 记录冲突的索引\n",
    "conflicting_indices = []\n",
    "\n",
    "# 遍历每组 28 行\n",
    "for i, start_index in enumerate(range(0, num_rows, 28)):\n",
    "    end_index = min(start_index + 28, num_rows)\n",
    "    \n",
    "    # 获取当前组\n",
    "    group = df_2023_28days_31items.iloc[start_index:end_index]\n",
    "    \n",
    "    # 计算当前组要填充的值\n",
    "    fill_value = item_list31[i % len(item_list31)]\n",
    "    \n",
    "    # 检查冲突并填充\n",
    "    for index, row in group.iterrows():\n",
    "        original_value = row['item_first_cate_name']\n",
    "        if pd.notna(original_value) and original_value != fill_value:\n",
    "            conflicting_indices.append(index)\n",
    "        else:\n",
    "            df_2023_28days_31items.at[index, 'item_first_cate_name'] = fill_value\n",
    "\n",
    "# 打印冲突的行索引\n",
    "if conflicting_indices:\n",
    "    print(\"冲突的行索引:\", conflicting_indices)\n",
    "else:\n",
    "    print(\"没有发现冲突\")\n",
    "    df_2023_28days_31items.to_csv('./data/data_2023_28days_31items.csv', index=False, encoding='utf-8-sig')"
   ]
  },
  {
   "cell_type": "markdown",
   "id": "61620bbf-48d2-40eb-969b-380c59741eb4",
   "metadata": {
    "jp-MarkdownHeadingCollapsed": true
   },
   "source": [
    "###### 取出NA少于3的"
   ]
  },
  {
   "cell_type": "code",
   "execution_count": null,
   "id": "fea1849c-52a9-4a49-8883-132daff14c0c",
   "metadata": {
    "scrolled": true
   },
   "outputs": [],
   "source": [
    "df_miss1 = df_miss1[df_miss1['nannum'] > 3][['city', 'item']]\n",
    "df_miss2 = df_miss2[df_miss2['nannum'] > 3][['city', 'item']]\n",
    "df = pd.concat([df_miss1, df_miss2]).rename(columns={'city': 'city_ch_name', 'item': 'item_first_cate_name'}).drop_duplicates()"
   ]
  },
  {
   "cell_type": "code",
   "execution_count": null,
   "id": "8c2534e3-6a66-460c-983e-3df68c764b48",
   "metadata": {
    "scrolled": true
   },
   "outputs": [],
   "source": [
    "df"
   ]
  },
  {
   "cell_type": "code",
   "execution_count": null,
   "id": "2a2f90b6-9ceb-4f2f-b6b0-d19852a4c1e2",
   "metadata": {},
   "outputs": [],
   "source": [
    "df_20202022_fewnan = df_20202022_28days_31items.merge(df, on=['city_ch_name', 'item_first_cate_name'], how='left', indicator=True)\n",
    "df_20202022_fewnan = df_20202022_fewnan[df_20202022_fewnan['_merge'] == 'left_only'].drop(columns=['_merge']).reset_index(drop=True)\n",
    "df_20202022_fewnan.to_csv('./data/data_2020-2022_fewnan.csv', index=False, encoding='utf-8-sig')\n",
    "df_20202022_fewnan"
   ]
  },
  {
   "cell_type": "code",
   "execution_count": null,
   "id": "e1676256-e593-4ef8-a8ec-6861ea1c7182",
   "metadata": {},
   "outputs": [],
   "source": [
    "df_2023_fewnan = df_2023_28days_31items.merge(df, on=['city_ch_name', 'item_first_cate_name'], how='left', indicator=True)\n",
    "df_2023_fewnan = df_2023_fewnan[df_2023_fewnan['_merge'] == 'left_only'].drop(columns=['_merge']).reset_index(drop=True)\n",
    "df_2023_fewnan.to_csv('./data/data_2023_fewnan.csv', index=False, encoding='utf-8-sig')\n",
    "df_2023_fewnan"
   ]
  },
  {
   "cell_type": "markdown",
   "id": "6004eeea-4871-4611-9f2a-e4de2b99a4df",
   "metadata": {
    "jp-MarkdownHeadingCollapsed": true
   },
   "source": [
    "###### province_code city_class gdp\tlongitude latitude列填上"
   ]
  },
  {
   "cell_type": "code",
   "execution_count": null,
   "id": "b49a0d53-6278-4a12-b214-fdd7b675a5bd",
   "metadata": {
    "scrolled": true
   },
   "outputs": [],
   "source": [
    "# 2020-2022\n",
    "# 填NAN\n",
    "df = df_20202022_fewnan\n",
    "# 将每28行分为一组\n",
    "df['group'] = df.index // 28\n",
    "\n",
    "# 定义需要填充的列\n",
    "cols_to_fill = ['province_code', 'city_class', 'gdp', 'longitude', 'latitude']\n",
    "\n",
    "# 使用 groupby 和 transform 填充缺失值\n",
    "for col in cols_to_fill:\n",
    "    # def fill_missing(x):\n",
    "    #     mode_val = x.mode()\n",
    "    #     if not mode_val.empty:\n",
    "    #         return x.fillna(mode_val.iloc[0])\n",
    "    #     else:\n",
    "    #         print(x)\n",
    "    #         return x\n",
    "\n",
    "    # df[col] = df.groupby('group')[col].transform(fill_missing)\n",
    "    df[col] = df.groupby('group')[col].transform(lambda x: x.fillna(x.mode().iloc[0]))\n",
    "\n",
    "# 删除辅助列\n",
    "df.drop(columns='group', inplace=True)\n",
    "df.to_csv('./data/data_2020-2022_fewnan.csv', index=False, encoding='utf-8-sig')"
   ]
  },
  {
   "cell_type": "markdown",
   "id": "e787365a-b6fc-4dbf-9495-f07a62940e29",
   "metadata": {},
   "source": [
    "###### year\tmonth mon_day"
   ]
  },
  {
   "cell_type": "code",
   "execution_count": null,
   "id": "54735267-bcd9-45b1-be31-81c108898cb0",
   "metadata": {},
   "outputs": [],
   "source": [
    "df = df_20202022_fewnan\n",
    "# 找出包含 NA 的行\n",
    "df['sale_ord_dt'] = pd.to_datetime(df['sale_ord_dt'])\n",
    "na_rows = df[df.isna().any(axis=1)]\n",
    "\n",
    "# 提取日期信息并填充到年、月、日列\n",
    "df.loc[na_rows.index, 'year'] = na_rows['sale_ord_dt'].dt.year\n",
    "df.loc[na_rows.index, 'month'] = na_rows['sale_ord_dt'].dt.month\n",
    "df.loc[na_rows.index, 'mon_day'] = na_rows['sale_ord_dt'].dt.day\n",
    "df.to_csv('./data/data_2020-2022_fewnan.csv', index=False, encoding='utf-8-sig')"
   ]
  },
  {
   "cell_type": "code",
   "execution_count": null,
   "id": "c86814b3-e58e-402e-93d3-ae1f33b7593d",
   "metadata": {},
   "outputs": [],
   "source": [
    "df = df_2023_fewnan\n",
    "df['sale_ord_dt'] = pd.to_datetime(df['sale_ord_dt'])\n",
    "\n",
    "# 提取日期信息并填充到年、月、日列\n",
    "df['year'] = df['sale_ord_dt'].dt.year\n",
    "df['month'] = df['sale_ord_dt'].dt.month\n",
    "df['mon_day'] = df['sale_ord_dt'].dt.day\n",
    "df.to_csv('./data/data_2023_fewnan.csv', index=False, encoding='utf-8-sig')"
   ]
  },
  {
   "cell_type": "code",
   "execution_count": null,
   "id": "e0cbbce5-236e-4541-9e2f-411b31e2b3c6",
   "metadata": {},
   "outputs": [],
   "source": [
    "df_20202022_fewnan.isna().sum(), df_2023_fewnan.isna().sum()"
   ]
  },
  {
   "cell_type": "markdown",
   "id": "efee3601-5d99-4b9c-a703-c43ae67bd871",
   "metadata": {},
   "source": [
    "### 缺失的品类多的去掉，item26"
   ]
  },
  {
   "cell_type": "code",
   "execution_count": null,
   "id": "7caff9a9-c3b5-4609-bb4d-c0c437021664",
   "metadata": {},
   "outputs": [],
   "source": [
    "array=np.array(df_miss1['item'])\n",
    "values, counts = np.unique(array, return_counts=True)\n",
    "value_counts = dict(zip(values, counts))\n",
    "print(value_counts)"
   ]
  },
  {
   "cell_type": "code",
   "execution_count": null,
   "id": "9c9a8747-c50b-4d52-a406-62cdf327c585",
   "metadata": {},
   "outputs": [],
   "source": [
    "df = pd.read_csv('./data/data_2020-2022_28days_31items.csv')\n",
    "df"
   ]
  },
  {
   "cell_type": "code",
   "execution_count": null,
   "id": "0663f829-84f1-4e16-a1a8-75ecfe4fa509",
   "metadata": {},
   "outputs": [],
   "source": [
    "items = ['二手商品', '农资园艺', '医药', '工业品', '礼品']#\n",
    "df_20202022_26 = df[~df['item_first_cate_name'].isin(items)].reset_index(drop=True)\n",
    "print(df_20202022_26.isna().sum())\n",
    "df_20202022_26.to_csv('./data/data_2020-2022_28days_26items.csv', index=False, encoding='utf-8-sig')\n",
    "df_20202022_26"
   ]
  },
  {
   "cell_type": "code",
   "execution_count": null,
   "id": "13eb6dc2-713b-4711-aba8-45b9e33cf9ce",
   "metadata": {},
   "outputs": [],
   "source": []
  }
 ],
 "metadata": {
  "kernelspec": {
   "display_name": "Python3 (PySpark)",
   "language": "python",
   "name": "python3"
  },
  "language_info": {
   "codemirror_mode": {
    "name": "ipython",
    "version": 3
   },
   "file_extension": ".py",
   "mimetype": "text/x-python",
   "name": "python",
   "nbconvert_exporter": "python",
   "pygments_lexer": "ipython3",
   "version": "3.9.18"
  }
 },
 "nbformat": 4,
 "nbformat_minor": 5
}
